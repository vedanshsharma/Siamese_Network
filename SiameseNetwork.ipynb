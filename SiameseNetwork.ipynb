{
  "nbformat": 4,
  "nbformat_minor": 0,
  "metadata": {
    "colab": {
      "name": "SiameseNetwork.ipynb",
      "provenance": []
    },
    "kernelspec": {
      "name": "python3",
      "display_name": "Python 3"
    }
  },
  "cells": [
    {
      "cell_type": "code",
      "metadata": {
        "id": "eBmMdtXwAx1I",
        "outputId": "9dd0e538-2929-499d-8a89-93fc10adbe85",
        "colab": {
          "base_uri": "https://localhost:8080/",
          "height": 34
        }
      },
      "source": [
        "%matplotlib inline\n",
        "\n",
        "import tensorflow as tf\n",
        "import matplotlib.pyplot as plt\n",
        "import seaborn as sns\n",
        "import numpy as np\n",
        "import random\n",
        "\n",
        "print('TensorFlow version:', tf.__version__)"
      ],
      "execution_count": 41,
      "outputs": [
        {
          "output_type": "stream",
          "text": [
            "TensorFlow version: 2.3.0\n"
          ],
          "name": "stdout"
        }
      ]
    },
    {
      "cell_type": "markdown",
      "metadata": {
        "id": "xl8wIjimT1L7"
      },
      "source": [
        "##Importing the Data"
      ]
    },
    {
      "cell_type": "code",
      "metadata": {
        "id": "gM9YYqfqRoHS",
        "outputId": "1e89fc2b-4ff1-4b66-cddb-4d01668423a2",
        "colab": {
          "base_uri": "https://localhost:8080/",
          "height": 0
        }
      },
      "source": [
        "(x_train , y_train) , (x_test , y_test) = tf.keras.datasets.mnist.load_data()\n",
        "print(x_train.shape)"
      ],
      "execution_count": 2,
      "outputs": [
        {
          "output_type": "stream",
          "text": [
            "Downloading data from https://storage.googleapis.com/tensorflow/tf-keras-datasets/mnist.npz\n",
            "11493376/11490434 [==============================] - 0s 0us/step\n",
            "(60000, 28, 28)\n"
          ],
          "name": "stdout"
        }
      ]
    },
    {
      "cell_type": "code",
      "metadata": {
        "id": "YJCoilq9UNJr"
      },
      "source": [
        "#reshape and normalizing the values\n",
        "\n",
        "x_train = np.reshape(x_train , (60000, 784)) / 255.\n",
        "\n",
        "x_test = np.reshape(x_test , (10000, 784)) / 255."
      ],
      "execution_count": 3,
      "outputs": []
    },
    {
      "cell_type": "code",
      "metadata": {
        "id": "fjZadNf0U1zG",
        "outputId": "260997ca-732f-4d30-ea42-3d7cb079aef6",
        "colab": {
          "base_uri": "https://localhost:8080/",
          "height": 0
        }
      },
      "source": [
        "print(x_train.shape , x_test.shape)"
      ],
      "execution_count": 4,
      "outputs": [
        {
          "output_type": "stream",
          "text": [
            "(60000, 784) (10000, 784)\n"
          ],
          "name": "stdout"
        }
      ]
    },
    {
      "cell_type": "markdown",
      "metadata": {
        "id": "EncxqZQfVSrg"
      },
      "source": [
        "##Plotting the triplets"
      ]
    },
    {
      "cell_type": "code",
      "metadata": {
        "id": "yOfFSyzTU57N"
      },
      "source": [
        "def plot_triplet(triplet):\n",
        "  plt.figure(figsize= (6,2))\n",
        "  for i in range(0,3):\n",
        "    plt.subplot(1 , 3 ,i+1)\n",
        "    plt.imshow(np.reshape(triplet[i] , (28 ,28) ) , cmap = 'binary' )\n",
        "    plt.xticks([])\n",
        "    plt.yticks([])\n",
        "  plt.show()"
      ],
      "execution_count": 5,
      "outputs": []
    },
    {
      "cell_type": "code",
      "metadata": {
        "id": "VvYx6hijXHiO",
        "outputId": "3f666c9b-a96e-440c-9fcd-57036671b3b0",
        "colab": {
          "base_uri": "https://localhost:8080/",
          "height": 0
        }
      },
      "source": [
        "plot_triplet([x_train[0] , x_train[1] , x_train[2]])"
      ],
      "execution_count": 6,
      "outputs": [
        {
          "output_type": "display_data",
          "data": {
            "image/png": "[encoded data removed]",
            "text/plain": [
              "<Figure size 432x144 with 3 Axes>"
            ]
          },
          "metadata": {
            "tags": []
          }
        }
      ]
    },
    {
      "cell_type": "markdown",
      "metadata": {
        "id": "Lkl5QyntYKok"
      },
      "source": [
        "##Creating Batch of triplets"
      ]
    },
    {
      "cell_type": "code",
      "metadata": {
        "id": "vzjDWAJ3XPqd"
      },
      "source": [
        " def create_batch(batch_size):\n",
        "\n",
        "   #place holders\n",
        "   anchor = np.zeros((batch_size , 784))\n",
        "   positive = np.zeros((batch_size , 784))\n",
        "   negative = np.zeros((batch_size , 784))\n",
        "\n",
        "   for i in range(batch_size):\n",
        "     index = np.random.randint(0 , 60000) #randomly selected an image\n",
        "     anc = x_train[index]\n",
        "     y = y_train[index]\n",
        "\n",
        "     \n",
        "     indices_for_pos = np.squeeze( np.where( y_train == y ) )\n",
        "     indices_for_neg = np.squeeze( np.where( y_train != y ) )\n",
        "\n",
        "     pos = x_train[indices_for_pos[random.randint( 0 , len(indices_for_pos) -1 )]]\n",
        "     neg = x_train[indices_for_neg[random.randint( 0 , len(indices_for_neg) -1 )]]\n",
        "\n",
        "     anchor[i] = anc\n",
        "     positive[i] = pos\n",
        "     negative[i] = neg\n",
        "\n",
        "   return([anchor , positive , negative])"
      ],
      "execution_count": 7,
      "outputs": []
    },
    {
      "cell_type": "code",
      "metadata": {
        "id": "qWQzzgeMbu5q",
        "outputId": "3e440596-fc46-4a2e-f481-7cad8dd3e3a6",
        "colab": {
          "base_uri": "https://localhost:8080/",
          "height": 0
        }
      },
      "source": [
        "triplet = create_batch(1)\n",
        "plot_triplet(triplet)"
      ],
      "execution_count": 8,
      "outputs": [
        {
          "output_type": "display_data",
          "data": {
            "image/png": "[encoded data removed]",
            "text/plain": [
              "<Figure size 432x144 with 3 Axes>"
            ]
          },
          "metadata": {
            "tags": []
          }
        }
      ]
    },
    {
      "cell_type": "markdown",
      "metadata": {
        "id": "AeKqMNKwcvUi"
      },
      "source": [
        "##Embedding Model"
      ]
    },
    {
      "cell_type": "code",
      "metadata": {
        "id": "lduKvbaYeOGP"
      },
      "source": [
        "import keras\n",
        "from keras.models import Sequential\n",
        "from keras.layers import Dense , Input , concatenate"
      ],
      "execution_count": 9,
      "outputs": []
    },
    {
      "cell_type": "code",
      "metadata": {
        "id": "BhcXcDyHcfES",
        "outputId": "0ff064a8-80d9-4cde-d91d-7c3d982181b3",
        "colab": {
          "base_uri": "https://localhost:8080/",
          "height": 255
        }
      },
      "source": [
        "emb_dim = 32\n",
        "\n",
        "embedding_model = Sequential([\n",
        "                  Dense(512 , activation= 'relu' , input_shape = ( 784,)) ,\n",
        "                  Dense(128 , activation = 'relu') ,\n",
        "                  Dense(emb_dim , activation= 'sigmoid' )\n",
        "])\n",
        "\n",
        "embedding_model.summary()"
      ],
      "execution_count": 10,
      "outputs": [
        {
          "output_type": "stream",
          "text": [
            "Model: \"sequential\"\n",
            "_________________________________________________________________\n",
            "Layer (type)                 Output Shape              Param #   \n",
            "=================================================================\n",
            "dense (Dense)                (None, 512)               401920    \n",
            "_________________________________________________________________\n",
            "dense_1 (Dense)              (None, 128)               65664     \n",
            "_________________________________________________________________\n",
            "dense_2 (Dense)              (None, 32)                4128      \n",
            "=================================================================\n",
            "Total params: 471,712\n",
            "Trainable params: 471,712\n",
            "Non-trainable params: 0\n",
            "_________________________________________________________________\n"
          ],
          "name": "stdout"
        }
      ]
    },
    {
      "cell_type": "code",
      "metadata": {
        "id": "e09i7qJDfPp-",
        "outputId": "b6bcc3d7-2e54-4f24-94b8-59c9cdee0f9a",
        "colab": {
          "base_uri": "https://localhost:8080/",
          "height": 119
        }
      },
      "source": [
        "example = x_train[0]\n",
        "example_emb = embedding_model.predict(np.expand_dims(example , axis =0))[0]\n",
        "\n",
        "print(example_emb)"
      ],
      "execution_count": 11,
      "outputs": [
        {
          "output_type": "stream",
          "text": [
            "[0.54803306 0.53108805 0.49562532 0.6386237  0.5025602  0.5471659\n",
            " 0.40313032 0.5611406  0.58900785 0.43523338 0.5275024  0.57634175\n",
            " 0.63048536 0.67789096 0.41902032 0.5281969  0.4446585  0.62487185\n",
            " 0.48857415 0.58464205 0.41222435 0.50335234 0.49861407 0.63579166\n",
            " 0.5136477  0.4269787  0.56427246 0.5800411  0.5165043  0.4932741\n",
            " 0.42963547 0.6229909 ]\n"
          ],
          "name": "stdout"
        }
      ]
    },
    {
      "cell_type": "markdown",
      "metadata": {
        "id": "r4hw5lX5gKrZ"
      },
      "source": [
        "##Siamese Network"
      ]
    },
    {
      "cell_type": "code",
      "metadata": {
        "id": "lDvhHytBf6N1",
        "outputId": "94b4b36b-7dc5-4a0f-8bf1-36a342046306",
        "colab": {
          "base_uri": "https://localhost:8080/",
          "height": 391
        }
      },
      "source": [
        "in_anc = Input(shape =(784 ,))\n",
        "in_pos = Input(shape =(784 ,))\n",
        "in_neg = Input(shape =(784 ,))\n",
        "\n",
        "\n",
        "em_anc = embedding_model(in_anc)\n",
        "em_pos = embedding_model(in_pos)\n",
        "em_neg = embedding_model(in_neg)\n",
        "\n",
        "out = concatenate([em_anc , em_pos , em_neg] , axis = 1)\n",
        "\n",
        "net = keras.models.Model(\n",
        "        [in_anc , in_pos , in_neg] ,\n",
        "        out\n",
        ")\n",
        "net.summary()"
      ],
      "execution_count": 12,
      "outputs": [
        {
          "output_type": "stream",
          "text": [
            "Model: \"functional_1\"\n",
            "__________________________________________________________________________________________________\n",
            "Layer (type)                    Output Shape         Param #     Connected to                     \n",
            "==================================================================================================\n",
            "input_1 (InputLayer)            [(None, 784)]        0                                            \n",
            "__________________________________________________________________________________________________\n",
            "input_2 (InputLayer)            [(None, 784)]        0                                            \n",
            "__________________________________________________________________________________________________\n",
            "input_3 (InputLayer)            [(None, 784)]        0                                            \n",
            "__________________________________________________________________________________________________\n",
            "sequential (Sequential)         (None, 32)           471712      input_1[0][0]                    \n",
            "                                                                 input_2[0][0]                    \n",
            "                                                                 input_3[0][0]                    \n",
            "__________________________________________________________________________________________________\n",
            "concatenate (Concatenate)       (None, 96)           0           sequential[0][0]                 \n",
            "                                                                 sequential[1][0]                 \n",
            "                                                                 sequential[2][0]                 \n",
            "==================================================================================================\n",
            "Total params: 471,712\n",
            "Trainable params: 471,712\n",
            "Non-trainable params: 0\n",
            "__________________________________________________________________________________________________\n"
          ],
          "name": "stdout"
        }
      ]
    },
    {
      "cell_type": "markdown",
      "metadata": {
        "id": "ErO6N0Zpklct"
      },
      "source": [
        "##Triple Loss"
      ]
    },
    {
      "cell_type": "markdown",
      "metadata": {
        "id": "0kOn7YKpoaPS"
      },
      "source": [
        "A loss function that tries to pull the Embeddings of Anchor and Positive Examples closer, and tries to push the Embeddings of Anchor and Negative Examples away from each other.\n",
        "\n",
        "Root mean square difference between Anchor and Positive examples in a batch of N images is:\n",
        "$\n",
        "\\begin{equation}\n",
        "d_p = \\sqrt{\\frac{\\sum_{i=0}^{N-1}(f(a_i) - f(p_i))^2}{N}}\n",
        "\\end{equation}\n",
        "$\n",
        "\n",
        "Root mean square difference between Anchor and Negative examples in a batch of N images is:\n",
        "$\n",
        "\\begin{equation}\n",
        "d_n = \\sqrt{\\frac{\\sum_{i=0}^{N-1}(f(a_i) - f(n_i))^2}{N}}\n",
        "\\end{equation}\n",
        "$\n",
        "\n",
        "For each example, we want:\n",
        "$\n",
        "\\begin{equation}\n",
        "d_p \\leq d_n\n",
        "\\end{equation}\n",
        "$\n",
        "\n",
        "Therefore,\n",
        "$\n",
        "\\begin{equation}\n",
        "d_p - d_n \\leq 0\n",
        "\\end{equation}\n",
        "$\n",
        "\n",
        "This condition is quite easily satisfied during the training.\n",
        "\n",
        "We will make it non-trivial by adding a margin (alpha):\n",
        "$\n",
        "\\begin{equation}\n",
        "d_p - d_n + \\alpha \\leq 0\n",
        "\\end{equation}\n",
        "$\n",
        "\n",
        "Given the condition above, the Triplet Loss L is defined as:\n",
        "$\n",
        "\\begin{equation}\n",
        "L = max(d_p - d_n + \\alpha, 0)\n",
        "\\end{equation}\n",
        "$"
      ]
    },
    {
      "cell_type": "code",
      "metadata": {
        "id": "zUUxTIC6hAJ5"
      },
      "source": [
        "#https://datascience.stackexchange.com/questions/25029/custom-loss-function-with-additional-parameter-in-keras\n",
        "\n",
        "def triplet_loss(alpha , emb_dim):\n",
        "  def loss(y_true , y_pred):\n",
        "    anc , pos , neg = y_pred[ : , : emb_dim] , y_pred[ : ,emb_dim: 2*emb_dim ] , y_pred[ : , 2* emb_dim : ]  \n",
        "    dp = tf.reduce_mean(tf.square(anc - pos ) , axis =1)\n",
        "    dn = tf.reduce_mean(tf.square(anc - neg ) , axis =1)\n",
        "    return tf.maximum(dp - dn + alpha , 0. )\n",
        "  return loss"
      ],
      "execution_count": 28,
      "outputs": []
    },
    {
      "cell_type": "markdown",
      "metadata": {
        "id": "3nhV1VBjpmiR"
      },
      "source": [
        "##Data Generator"
      ]
    },
    {
      "cell_type": "code",
      "metadata": {
        "id": "mENvFNu5pKqa"
      },
      "source": [
        "def data_generator(batch_size , emb_dim):\n",
        "  while True:\n",
        "    x = create_batch(batch_size)\n",
        "    y = np.zeros((batch_size , 3 * emb_dim)) #we need to pass y even though its not needed\n",
        "    yield x ,y \n",
        "  "
      ],
      "execution_count": 21,
      "outputs": []
    },
    {
      "cell_type": "markdown",
      "metadata": {
        "id": "zhPzwzdmwZ32"
      },
      "source": [
        "##Training the model"
      ]
    },
    {
      "cell_type": "code",
      "metadata": {
        "id": "SLw38I6lwYDb"
      },
      "source": [
        "batch_size = 1024\n",
        "epochs = 25\n",
        " \n",
        "steps_per_epoch = (60000 / batch_size)\n",
        "\n",
        "net.compile(loss = triplet_loss(0.2 , emb_dim) , optimizer = 'adam')\n",
        "\n",
        "X,Y = x_test[:1000] , y_test[:1000]"
      ],
      "execution_count": 29,
      "outputs": []
    },
    {
      "cell_type": "code",
      "metadata": {
        "id": "9aWPVBpTw1O1",
        "outputId": "fa940e1e-160d-4f8f-bb2c-2e7cfc5ba880",
        "colab": {
          "base_uri": "https://localhost:8080/",
          "height": 884
        }
      },
      "source": [
        "net.fit(\n",
        "    data_generator(batch_size , emb_dim) ,\n",
        "    epochs = epochs , steps_per_epoch = steps_per_epoch,\n",
        "    \n",
        ")"
      ],
      "execution_count": 30,
      "outputs": [
        {
          "output_type": "stream",
          "text": [
            "Epoch 1/25\n",
            "59/58 [==============================] - 33s 555ms/step - loss: 0.0683\n",
            "Epoch 2/25\n",
            "59/58 [==============================] - 33s 553ms/step - loss: 0.0268\n",
            "Epoch 3/25\n",
            "59/58 [==============================] - 33s 557ms/step - loss: 0.0176\n",
            "Epoch 4/25\n",
            "59/58 [==============================] - 33s 556ms/step - loss: 0.0124\n",
            "Epoch 5/25\n",
            "59/58 [==============================] - 33s 553ms/step - loss: 0.0096\n",
            "Epoch 6/25\n",
            "59/58 [==============================] - 33s 554ms/step - loss: 0.0078\n",
            "Epoch 7/25\n",
            "59/58 [==============================] - 33s 555ms/step - loss: 0.0068\n",
            "Epoch 8/25\n",
            "59/58 [==============================] - 33s 560ms/step - loss: 0.0059\n",
            "Epoch 9/25\n",
            "59/58 [==============================] - 33s 558ms/step - loss: 0.0051\n",
            "Epoch 10/25\n",
            "59/58 [==============================] - 33s 554ms/step - loss: 0.0044\n",
            "Epoch 11/25\n",
            "59/58 [==============================] - 33s 556ms/step - loss: 0.0039\n",
            "Epoch 12/25\n",
            "59/58 [==============================] - 33s 559ms/step - loss: 0.0034\n",
            "Epoch 13/25\n",
            "59/58 [==============================] - 33s 556ms/step - loss: 0.0032\n",
            "Epoch 14/25\n",
            "59/58 [==============================] - 33s 559ms/step - loss: 0.0027\n",
            "Epoch 15/25\n",
            "59/58 [==============================] - 33s 557ms/step - loss: 0.0028\n",
            "Epoch 16/25\n",
            "59/58 [==============================] - 33s 557ms/step - loss: 0.0023\n",
            "Epoch 17/25\n",
            "59/58 [==============================] - 33s 557ms/step - loss: 0.0021\n",
            "Epoch 18/25\n",
            "59/58 [==============================] - 33s 559ms/step - loss: 0.0020\n",
            "Epoch 19/25\n",
            "59/58 [==============================] - 33s 559ms/step - loss: 0.0019\n",
            "Epoch 20/25\n",
            "59/58 [==============================] - 33s 560ms/step - loss: 0.0016\n",
            "Epoch 21/25\n",
            "59/58 [==============================] - 33s 559ms/step - loss: 0.0016\n",
            "Epoch 22/25\n",
            "59/58 [==============================] - 33s 556ms/step - loss: 0.0015\n",
            "Epoch 23/25\n",
            "59/58 [==============================] - 33s 558ms/step - loss: 0.0014\n",
            "Epoch 24/25\n",
            "59/58 [==============================] - 33s 559ms/step - loss: 0.0011\n",
            "Epoch 25/25\n",
            "59/58 [==============================] - 33s 562ms/step - loss: 0.0012\n"
          ],
          "name": "stdout"
        },
        {
          "output_type": "execute_result",
          "data": {
            "text/plain": [
              "<tensorflow.python.keras.callbacks.History at 0x7f93813b6470>"
            ]
          },
          "metadata": {
            "tags": []
          },
          "execution_count": 30
        }
      ]
    },
    {
      "cell_type": "markdown",
      "metadata": {
        "id": "hMw1my-c0scm"
      },
      "source": [
        "##Visualizing the embeddings"
      ]
    },
    {
      "cell_type": "code",
      "metadata": {
        "id": "aclxzwenyMNH",
        "outputId": "6dbf0028-37ca-4ad9-d7be-ba29e42ebbd5",
        "colab": {
          "base_uri": "https://localhost:8080/",
          "height": 34
        }
      },
      "source": [
        "X_ = embedding_model.predict(X)\n",
        "print(X_.shape)"
      ],
      "execution_count": 36,
      "outputs": [
        {
          "output_type": "stream",
          "text": [
            "(1000, 32)\n"
          ],
          "name": "stdout"
        }
      ]
    },
    {
      "cell_type": "code",
      "metadata": {
        "id": "Or8En0DM16xa",
        "outputId": "c6e51f91-6271-4111-a3c6-9f7008157904",
        "colab": {
          "base_uri": "https://localhost:8080/",
          "height": 34
        }
      },
      "source": [
        "# importing the PCA\n",
        "from sklearn import decomposition\n",
        "import pandas as pd\n",
        "pca= decomposition.PCA()\n",
        "\n",
        "\n",
        "\n",
        "# the only parameter required to specify is the number of dimentions to which we want the data to be reduced to\n",
        "pca.n_components = 2\n",
        "p_data= pca.fit_transform(X_)\n",
        "print(p_data.shape)"
      ],
      "execution_count": 37,
      "outputs": [
        {
          "output_type": "stream",
          "text": [
            "(1000, 2)\n"
          ],
          "name": "stdout"
        }
      ]
    },
    {
      "cell_type": "code",
      "metadata": {
        "id": "A9KdC1y-2CAv",
        "outputId": "af2f9f0a-a3d1-4d2d-803f-f40323b3d75a",
        "colab": {
          "base_uri": "https://localhost:8080/",
          "height": 34
        }
      },
      "source": [
        "# attaching the labels to p_data\n",
        "p_data=np.vstack((p_data.T,Y)).T\n",
        "print(p_data.shape)"
      ],
      "execution_count": 38,
      "outputs": [
        {
          "output_type": "stream",
          "text": [
            "(1000, 3)\n"
          ],
          "name": "stdout"
        }
      ]
    },
    {
      "cell_type": "code",
      "metadata": {
        "id": "TOkqEh0k2Fnz",
        "outputId": "dbb3e8ae-056b-4913-823e-1d0303d89d2c",
        "colab": {
          "base_uri": "https://localhost:8080/",
          "height": 119
        }
      },
      "source": [
        "# creating a new dataFrame for plotting purpose\n",
        "pca_df = pd.DataFrame(data=p_data, columns=(\"1st principal\", \"2nd principal\", \"label\"))\n",
        "print(pca_df.head())"
      ],
      "execution_count": 40,
      "outputs": [
        {
          "output_type": "stream",
          "text": [
            "   1st principal  2nd principal  label\n",
            "0       1.449332       0.013298    7.0\n",
            "1       0.235923      -1.807824    2.0\n",
            "2       1.890712      -0.605393    1.0\n",
            "3      -1.261487       0.217331    0.0\n",
            "4       0.594906       2.432559    4.0\n"
          ],
          "name": "stdout"
        }
      ]
    },
    {
      "cell_type": "code",
      "metadata": {
        "id": "u4r2fa3S2McS",
        "outputId": "96849c5b-d1b2-4c7b-fcb0-687fc1cfe658",
        "colab": {
          "base_uri": "https://localhost:8080/",
          "height": 441
        }
      },
      "source": [
        "sns.FacetGrid(pca_df, hue='label',height=6).map(plt.scatter,'1st principal','2nd principal').add_legend()\n",
        "plt.show()"
      ],
      "execution_count": 42,
      "outputs": [
        {
          "output_type": "display_data",
          "data": {
            "image/png": "[encoded data removed]",
            "text/plain": [
              "<Figure size 483.875x432 with 1 Axes>"
            ]
          },
          "metadata": {
            "tags": [],
            "needs_background": "light"
          }
        }
      ]
    },
    {
      "cell_type": "code",
      "metadata": {
        "id": "Qlk_nI8s2hr8"
      },
      "source": [
        ""
      ],
      "execution_count": null,
      "outputs": []
    }
  ]
}